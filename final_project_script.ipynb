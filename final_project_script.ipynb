{
 "cells": [
  {
   "cell_type": "markdown",
   "metadata": {},
   "source": [
    "__Final Project : President Trump Tweets and Stock Market Performance__"
   ]
  },
  {
   "cell_type": "markdown",
   "metadata": {
    "ExecuteTime": {
     "end_time": "2020-07-31T13:39:39.621300Z",
     "start_time": "2020-07-31T13:39:39.613278Z"
    }
   },
   "source": [
    "__Group Members:__\n",
    "\n",
    "__Name 1:__ Gizem Baranoglu Dammati - 11924000\n",
    "\n",
    "__Name 2:__ Brigitta Földi - 11849064\n",
    "\n",
    "__Name 3:__ Tara Shirehpazazari - 61803573\n"
   ]
  },
  {
   "cell_type": "markdown",
   "metadata": {
    "heading_collapsed": true
   },
   "source": [
    "# Import Packages"
   ]
  },
  {
   "cell_type": "markdown",
   "metadata": {
    "hidden": true
   },
   "source": [
    "__Events__\n",
    "\n",
    "Donald Trump Won Election on: 09-11-2016\n",
    "\n",
    "Donald Trump Presidency Started on: 20-01-2017 17:00\n"
   ]
  },
  {
   "cell_type": "code",
   "execution_count": 1,
   "metadata": {
    "ExecuteTime": {
     "end_time": "2020-07-31T14:44:10.139581Z",
     "start_time": "2020-07-31T14:44:08.241649Z"
    },
    "code_folding": [
     0
    ],
    "hidden": true
   },
   "outputs": [],
   "source": [
    "#Import the necessary packages\n",
    "\n",
    "import pandas as pd\n",
    "import numpy as np\n",
    "import re\n",
    "import string\n",
    "import json\n",
    "from collections import Counter\n",
    "import matplotlib.pyplot as plt\n",
    "\n",
    "import nltk\n",
    "from nltk.corpus import stopwords\n",
    "from nltk import word_tokenize\n",
    "\n",
    "from sklearn.linear_model import Perceptron\n",
    "from sklearn.model_selection import train_test_split\n",
    "from sklearn.preprocessing import StandardScaler\n",
    "from sklearn.tree import DecisionTreeClassifier\n",
    "from sklearn.feature_extraction.text import CountVectorizer\n",
    "from sklearn.feature_extraction.text import TfidfTransformer\n",
    "\n",
    "%matplotlib inline\n",
    "pd.set_option('display.float_format', lambda x: '%.3f' % x)\n",
    "np.random.seed(42)\n",
    "np.set_printoptions(precision=2)"
   ]
  },
  {
   "cell_type": "markdown",
   "metadata": {
    "heading_collapsed": true
   },
   "source": [
    "# Tweets Data"
   ]
  },
  {
   "cell_type": "markdown",
   "metadata": {
    "heading_collapsed": true,
    "hidden": true
   },
   "source": [
    "## Import Data"
   ]
  },
  {
   "cell_type": "markdown",
   "metadata": {
    "hidden": true
   },
   "source": [
    "We use the readily available <b>\"Twitter Tweets for Donald J. Trump (@realdonaldtrump)\"</b> dataset from Harvard Dataverse with around 40K tweets from 2009 to 2019.\n",
    "\n",
    "<b>Source</b>: https://dataverse.harvard.edu/dataset.xhtml?persistentId=doi%3A10.7910%2FDVN%2FKJEBIL"
   ]
  },
  {
   "cell_type": "code",
   "execution_count": 2,
   "metadata": {
    "ExecuteTime": {
     "end_time": "2020-07-31T14:44:19.669450Z",
     "start_time": "2020-07-31T14:44:10.141562Z"
    },
    "hidden": true,
    "scrolled": false
   },
   "outputs": [
    {
     "name": "stdout",
     "output_type": "stream",
     "text": [
      "<class 'pandas.core.frame.DataFrame'>\n",
      "RangeIndex: 40241 entries, 0 to 40240\n",
      "Data columns (total 34 columns):\n",
      " #   Column                     Non-Null Count  Dtype              \n",
      "---  ------                     --------------  -----              \n",
      " 0   contributors               0 non-null      float64            \n",
      " 1   coordinates                2415 non-null   object             \n",
      " 2   created_at                 40241 non-null  datetime64[ns, UTC]\n",
      " 3   entities                   40241 non-null  object             \n",
      " 4   favorite_count             40241 non-null  int64              \n",
      " 5   favorited                  40241 non-null  bool               \n",
      " 6   geo                        2415 non-null   object             \n",
      " 7   id                         40241 non-null  int64              \n",
      " 8   id_str                     40241 non-null  int64              \n",
      " 9   in_reply_to_screen_name    2873 non-null   object             \n",
      " 10  in_reply_to_status_id      2393 non-null   float64            \n",
      " 11  in_reply_to_status_id_str  2393 non-null   float64            \n",
      " 12  in_reply_to_user_id        2873 non-null   float64            \n",
      " 13  in_reply_to_user_id_str    2873 non-null   float64            \n",
      " 14  is_quote_status            40241 non-null  bool               \n",
      " 15  lang                       40241 non-null  object             \n",
      " 16  place                      2991 non-null   object             \n",
      " 17  retrieved_utc              40241 non-null  int64              \n",
      " 18  retweet_count              40241 non-null  int64              \n",
      " 19  retweeted                  40241 non-null  bool               \n",
      " 20  source                     40241 non-null  object             \n",
      " 21  text                       40241 non-null  object             \n",
      " 22  truncated                  40241 non-null  bool               \n",
      " 23  user                       40241 non-null  object             \n",
      " 24  possibly_sensitive         9423 non-null   float64            \n",
      " 25  extended_entities          2203 non-null   object             \n",
      " 26  quoted_status              494 non-null    object             \n",
      " 27  quoted_status_id           642 non-null    float64            \n",
      " 28  quoted_status_id_str       642 non-null    float64            \n",
      " 29  retweeted_status           1695 non-null   object             \n",
      " 30  withheld_copyright         1 non-null      float64            \n",
      " 31  withheld_in_countries      1 non-null      object             \n",
      " 32  withheld_scope             1 non-null      object             \n",
      " 33  scopes                     64 non-null     object             \n",
      "dtypes: bool(4), datetime64[ns, UTC](1), float64(9), int64(5), object(15)\n",
      "memory usage: 9.4+ MB\n"
     ]
    }
   ],
   "source": [
    "#Import tweets raw data from ndjson file into a dataframe to inspect the data fields\n",
    "tweets_raw = pd.read_json('realdonaldtrump.ndjson',lines=True)\n",
    "tweets_raw.info()"
   ]
  },
  {
   "cell_type": "code",
   "execution_count": 3,
   "metadata": {
    "ExecuteTime": {
     "end_time": "2020-07-31T14:44:19.705353Z",
     "start_time": "2020-07-31T14:44:19.671158Z"
    },
    "hidden": true
   },
   "outputs": [
    {
     "data": {
      "text/html": [
       "<div>\n",
       "<style scoped>\n",
       "    .dataframe tbody tr th:only-of-type {\n",
       "        vertical-align: middle;\n",
       "    }\n",
       "\n",
       "    .dataframe tbody tr th {\n",
       "        vertical-align: top;\n",
       "    }\n",
       "\n",
       "    .dataframe thead th {\n",
       "        text-align: right;\n",
       "    }\n",
       "</style>\n",
       "<table border=\"1\" class=\"dataframe\">\n",
       "  <thead>\n",
       "    <tr style=\"text-align: right;\">\n",
       "      <th></th>\n",
       "      <th>contributors</th>\n",
       "      <th>coordinates</th>\n",
       "      <th>created_at</th>\n",
       "      <th>entities</th>\n",
       "      <th>favorite_count</th>\n",
       "      <th>favorited</th>\n",
       "      <th>geo</th>\n",
       "      <th>id</th>\n",
       "      <th>id_str</th>\n",
       "      <th>in_reply_to_screen_name</th>\n",
       "      <th>...</th>\n",
       "      <th>possibly_sensitive</th>\n",
       "      <th>extended_entities</th>\n",
       "      <th>quoted_status</th>\n",
       "      <th>quoted_status_id</th>\n",
       "      <th>quoted_status_id_str</th>\n",
       "      <th>retweeted_status</th>\n",
       "      <th>withheld_copyright</th>\n",
       "      <th>withheld_in_countries</th>\n",
       "      <th>withheld_scope</th>\n",
       "      <th>scopes</th>\n",
       "    </tr>\n",
       "  </thead>\n",
       "  <tbody>\n",
       "    <tr>\n",
       "      <th>0</th>\n",
       "      <td>nan</td>\n",
       "      <td>None</td>\n",
       "      <td>2009-05-04 18:54:25+00:00</td>\n",
       "      <td>{'hashtags': [], 'symbols': [], 'urls': [], 'u...</td>\n",
       "      <td>850</td>\n",
       "      <td>False</td>\n",
       "      <td>None</td>\n",
       "      <td>1698308935</td>\n",
       "      <td>1698308935</td>\n",
       "      <td>None</td>\n",
       "      <td>...</td>\n",
       "      <td>nan</td>\n",
       "      <td>NaN</td>\n",
       "      <td>NaN</td>\n",
       "      <td>nan</td>\n",
       "      <td>nan</td>\n",
       "      <td>NaN</td>\n",
       "      <td>nan</td>\n",
       "      <td>NaN</td>\n",
       "      <td>NaN</td>\n",
       "      <td>NaN</td>\n",
       "    </tr>\n",
       "    <tr>\n",
       "      <th>1</th>\n",
       "      <td>nan</td>\n",
       "      <td>None</td>\n",
       "      <td>2009-05-05 01:00:10+00:00</td>\n",
       "      <td>{'hashtags': [], 'symbols': [], 'urls': [], 'u...</td>\n",
       "      <td>282</td>\n",
       "      <td>False</td>\n",
       "      <td>None</td>\n",
       "      <td>1701461182</td>\n",
       "      <td>1701461182</td>\n",
       "      <td>None</td>\n",
       "      <td>...</td>\n",
       "      <td>nan</td>\n",
       "      <td>NaN</td>\n",
       "      <td>NaN</td>\n",
       "      <td>nan</td>\n",
       "      <td>nan</td>\n",
       "      <td>NaN</td>\n",
       "      <td>nan</td>\n",
       "      <td>NaN</td>\n",
       "      <td>NaN</td>\n",
       "      <td>NaN</td>\n",
       "    </tr>\n",
       "    <tr>\n",
       "      <th>2</th>\n",
       "      <td>nan</td>\n",
       "      <td>None</td>\n",
       "      <td>2009-05-08 13:38:08+00:00</td>\n",
       "      <td>{'hashtags': [], 'symbols': [], 'urls': [], 'u...</td>\n",
       "      <td>16</td>\n",
       "      <td>False</td>\n",
       "      <td>None</td>\n",
       "      <td>1737479987</td>\n",
       "      <td>1737479987</td>\n",
       "      <td>None</td>\n",
       "      <td>...</td>\n",
       "      <td>nan</td>\n",
       "      <td>NaN</td>\n",
       "      <td>NaN</td>\n",
       "      <td>nan</td>\n",
       "      <td>nan</td>\n",
       "      <td>NaN</td>\n",
       "      <td>nan</td>\n",
       "      <td>NaN</td>\n",
       "      <td>NaN</td>\n",
       "      <td>NaN</td>\n",
       "    </tr>\n",
       "    <tr>\n",
       "      <th>3</th>\n",
       "      <td>nan</td>\n",
       "      <td>None</td>\n",
       "      <td>2009-05-08 20:40:15+00:00</td>\n",
       "      <td>{'hashtags': [], 'symbols': [], 'urls': [], 'u...</td>\n",
       "      <td>28</td>\n",
       "      <td>False</td>\n",
       "      <td>None</td>\n",
       "      <td>1741160716</td>\n",
       "      <td>1741160716</td>\n",
       "      <td>None</td>\n",
       "      <td>...</td>\n",
       "      <td>nan</td>\n",
       "      <td>NaN</td>\n",
       "      <td>NaN</td>\n",
       "      <td>nan</td>\n",
       "      <td>nan</td>\n",
       "      <td>NaN</td>\n",
       "      <td>nan</td>\n",
       "      <td>NaN</td>\n",
       "      <td>NaN</td>\n",
       "      <td>NaN</td>\n",
       "    </tr>\n",
       "    <tr>\n",
       "      <th>4</th>\n",
       "      <td>nan</td>\n",
       "      <td>None</td>\n",
       "      <td>2009-05-12 14:07:28+00:00</td>\n",
       "      <td>{'hashtags': [], 'symbols': [], 'urls': [], 'u...</td>\n",
       "      <td>1950</td>\n",
       "      <td>False</td>\n",
       "      <td>None</td>\n",
       "      <td>1773561338</td>\n",
       "      <td>1773561338</td>\n",
       "      <td>None</td>\n",
       "      <td>...</td>\n",
       "      <td>nan</td>\n",
       "      <td>NaN</td>\n",
       "      <td>NaN</td>\n",
       "      <td>nan</td>\n",
       "      <td>nan</td>\n",
       "      <td>NaN</td>\n",
       "      <td>nan</td>\n",
       "      <td>NaN</td>\n",
       "      <td>NaN</td>\n",
       "      <td>NaN</td>\n",
       "    </tr>\n",
       "  </tbody>\n",
       "</table>\n",
       "<p>5 rows × 34 columns</p>\n",
       "</div>"
      ],
      "text/plain": [
       "   contributors coordinates                created_at  \\\n",
       "0           nan        None 2009-05-04 18:54:25+00:00   \n",
       "1           nan        None 2009-05-05 01:00:10+00:00   \n",
       "2           nan        None 2009-05-08 13:38:08+00:00   \n",
       "3           nan        None 2009-05-08 20:40:15+00:00   \n",
       "4           nan        None 2009-05-12 14:07:28+00:00   \n",
       "\n",
       "                                            entities  favorite_count  \\\n",
       "0  {'hashtags': [], 'symbols': [], 'urls': [], 'u...             850   \n",
       "1  {'hashtags': [], 'symbols': [], 'urls': [], 'u...             282   \n",
       "2  {'hashtags': [], 'symbols': [], 'urls': [], 'u...              16   \n",
       "3  {'hashtags': [], 'symbols': [], 'urls': [], 'u...              28   \n",
       "4  {'hashtags': [], 'symbols': [], 'urls': [], 'u...            1950   \n",
       "\n",
       "   favorited   geo          id      id_str in_reply_to_screen_name  ...  \\\n",
       "0      False  None  1698308935  1698308935                    None  ...   \n",
       "1      False  None  1701461182  1701461182                    None  ...   \n",
       "2      False  None  1737479987  1737479987                    None  ...   \n",
       "3      False  None  1741160716  1741160716                    None  ...   \n",
       "4      False  None  1773561338  1773561338                    None  ...   \n",
       "\n",
       "   possibly_sensitive  extended_entities  quoted_status  quoted_status_id  \\\n",
       "0                 nan                NaN            NaN               nan   \n",
       "1                 nan                NaN            NaN               nan   \n",
       "2                 nan                NaN            NaN               nan   \n",
       "3                 nan                NaN            NaN               nan   \n",
       "4                 nan                NaN            NaN               nan   \n",
       "\n",
       "   quoted_status_id_str retweeted_status withheld_copyright  \\\n",
       "0                   nan              NaN                nan   \n",
       "1                   nan              NaN                nan   \n",
       "2                   nan              NaN                nan   \n",
       "3                   nan              NaN                nan   \n",
       "4                   nan              NaN                nan   \n",
       "\n",
       "   withheld_in_countries  withheld_scope  scopes  \n",
       "0                    NaN             NaN     NaN  \n",
       "1                    NaN             NaN     NaN  \n",
       "2                    NaN             NaN     NaN  \n",
       "3                    NaN             NaN     NaN  \n",
       "4                    NaN             NaN     NaN  \n",
       "\n",
       "[5 rows x 34 columns]"
      ]
     },
     "execution_count": 3,
     "metadata": {},
     "output_type": "execute_result"
    }
   ],
   "source": [
    "#Display the top rows of the dataframe\n",
    "tweets_raw.head()"
   ]
  },
  {
   "cell_type": "code",
   "execution_count": 4,
   "metadata": {
    "ExecuteTime": {
     "end_time": "2020-07-31T14:44:19.713934Z",
     "start_time": "2020-07-31T14:44:19.707063Z"
    },
    "hidden": true
   },
   "outputs": [
    {
     "data": {
      "text/plain": [
       "contributors                                                               NaN\n",
       "coordinates                                                               None\n",
       "created_at                                           2009-05-04 18:54:25+00:00\n",
       "entities                     {'hashtags': [], 'symbols': [], 'urls': [], 'u...\n",
       "favorite_count                                                             850\n",
       "favorited                                                                False\n",
       "geo                                                                       None\n",
       "id                                                                  1698308935\n",
       "id_str                                                              1698308935\n",
       "in_reply_to_screen_name                                                   None\n",
       "in_reply_to_status_id                                                      NaN\n",
       "in_reply_to_status_id_str                                                  NaN\n",
       "in_reply_to_user_id                                                        NaN\n",
       "in_reply_to_user_id_str                                                    NaN\n",
       "is_quote_status                                                          False\n",
       "lang                                                                        en\n",
       "place                                                                     None\n",
       "retrieved_utc                                                       1562866582\n",
       "retweet_count                                                              501\n",
       "retweeted                                                                False\n",
       "source                       <a href=\"http://twitter.com\" rel=\"nofollow\">Tw...\n",
       "text                         Be sure to tune in and watch Donald Trump on L...\n",
       "truncated                                                                False\n",
       "user                         {'contributors_enabled': False, 'created_at': ...\n",
       "possibly_sensitive                                                         NaN\n",
       "extended_entities                                                          NaN\n",
       "quoted_status                                                              NaN\n",
       "quoted_status_id                                                           NaN\n",
       "quoted_status_id_str                                                       NaN\n",
       "retweeted_status                                                           NaN\n",
       "withheld_copyright                                                         NaN\n",
       "withheld_in_countries                                                      NaN\n",
       "withheld_scope                                                             NaN\n",
       "scopes                                                                     NaN\n",
       "Name: 0, dtype: object"
      ]
     },
     "execution_count": 4,
     "metadata": {},
     "output_type": "execute_result"
    }
   ],
   "source": [
    "#Display a sample row of data\n",
    "tweets_raw.iloc[0]"
   ]
  },
  {
   "cell_type": "code",
   "execution_count": 5,
   "metadata": {
    "ExecuteTime": {
     "end_time": "2020-07-31T14:44:19.721261Z",
     "start_time": "2020-07-31T14:44:19.716343Z"
    },
    "hidden": true
   },
   "outputs": [
    {
     "data": {
      "text/plain": [
       "'Be sure to tune in and watch Donald Trump on Late Night with David Letterman as he presents the Top Ten List tonight!'"
      ]
     },
     "execution_count": 5,
     "metadata": {},
     "output_type": "execute_result"
    }
   ],
   "source": [
    "#Display a sample tweet text of one row\n",
    "tweets_raw.iloc[0]['text']"
   ]
  },
  {
   "cell_type": "markdown",
   "metadata": {
    "heading_collapsed": true,
    "hidden": true
   },
   "source": [
    "## Data Exploration & Stats"
   ]
  },
  {
   "cell_type": "markdown",
   "metadata": {
    "hidden": true
   },
   "source": [
    "We explore the raw dataset to understand the data better and add necessary fields to help extract the tweets we are interested in for our analysis."
   ]
  },
  {
   "cell_type": "code",
   "execution_count": 6,
   "metadata": {
    "ExecuteTime": {
     "end_time": "2020-07-31T14:44:19.733030Z",
     "start_time": "2020-07-31T14:44:19.724876Z"
    },
    "hidden": true
   },
   "outputs": [
    {
     "data": {
      "text/plain": [
       "'Number of tweets: 40241'"
      ]
     },
     "metadata": {},
     "output_type": "display_data"
    },
    {
     "data": {
      "text/plain": [
       "'Tweets range from: 2009-05-04 18:54:25+00:00 to 2019-07-11 15:52:19+00:00'"
      ]
     },
     "metadata": {},
     "output_type": "display_data"
    }
   ],
   "source": [
    "#Check the total no. of tweets and the time range of the tweets in the dataframe\n",
    "display(\"Number of tweets: \"+str(len(tweets_raw)))\n",
    "display(\"Tweets range from: \"+str(tweets_raw.created_at.min()) + \" to \" + str(tweets_raw.created_at.max()))"
   ]
  },
  {
   "cell_type": "code",
   "execution_count": 7,
   "metadata": {
    "ExecuteTime": {
     "end_time": "2020-07-31T14:44:19.737784Z",
     "start_time": "2020-07-31T14:44:19.735286Z"
    },
    "hidden": true
   },
   "outputs": [],
   "source": [
    "#Save the Election and Presidency Dates\n",
    "election_win = '2016-11-09'\n",
    "presidency_start = '2017-01-20'"
   ]
  },
  {
   "cell_type": "code",
   "execution_count": 8,
   "metadata": {
    "ExecuteTime": {
     "end_time": "2020-07-31T14:44:27.887305Z",
     "start_time": "2020-07-31T14:44:19.739887Z"
    },
    "hidden": true
   },
   "outputs": [
    {
     "name": "stdout",
     "output_type": "stream",
     "text": [
      "<class 'pandas.core.frame.DataFrame'>\n",
      "RangeIndex: 40241 entries, 0 to 40240\n",
      "Data columns (total 3 columns):\n",
      " #   Column        Non-Null Count  Dtype              \n",
      "---  ------        --------------  -----              \n",
      " 0   created_at    40241 non-null  datetime64[ns, UTC]\n",
      " 1   is_win        40241 non-null  int64              \n",
      " 2   is_president  40241 non-null  int64              \n",
      "dtypes: datetime64[ns, UTC](1), int64(2)\n",
      "memory usage: 943.3 KB\n"
     ]
    }
   ],
   "source": [
    "#Add a flag to each tweet whether the tweet was made as a president/after winning the election\n",
    "tweets_raw['is_president'] = tweets_raw['created_at'].apply(lambda x: 1 if x > pd.to_datetime(presidency_start,utc=1) else 0)\n",
    "tweets_raw['is_win'] = tweets_raw['created_at'].apply(lambda x: 1 if x > pd.to_datetime(election_win,utc=1) else 0)\n",
    "tweets_raw[['created_at','is_win','is_president']].info()"
   ]
  },
  {
   "cell_type": "code",
   "execution_count": 9,
   "metadata": {
    "ExecuteTime": {
     "end_time": "2020-07-31T14:44:27.915708Z",
     "start_time": "2020-07-31T14:44:27.889480Z"
    },
    "hidden": true
   },
   "outputs": [
    {
     "name": "stdout",
     "output_type": "stream",
     "text": [
      "<class 'pandas.core.frame.DataFrame'>\n",
      "Int64Index: 8537 entries, 31704 to 40240\n",
      "Data columns (total 36 columns):\n",
      " #   Column                     Non-Null Count  Dtype              \n",
      "---  ------                     --------------  -----              \n",
      " 0   contributors               0 non-null      float64            \n",
      " 1   coordinates                0 non-null      object             \n",
      " 2   created_at                 8537 non-null   datetime64[ns, UTC]\n",
      " 3   entities                   8537 non-null   object             \n",
      " 4   favorite_count             8537 non-null   int64              \n",
      " 5   favorited                  8537 non-null   bool               \n",
      " 6   geo                        0 non-null      object             \n",
      " 7   id                         8537 non-null   int64              \n",
      " 8   id_str                     8537 non-null   int64              \n",
      " 9   in_reply_to_screen_name    314 non-null    object             \n",
      " 10  in_reply_to_status_id      309 non-null    float64            \n",
      " 11  in_reply_to_status_id_str  309 non-null    float64            \n",
      " 12  in_reply_to_user_id        314 non-null    float64            \n",
      " 13  in_reply_to_user_id_str    314 non-null    float64            \n",
      " 14  is_quote_status            8537 non-null   bool               \n",
      " 15  lang                       8537 non-null   object             \n",
      " 16  place                      39 non-null     object             \n",
      " 17  retrieved_utc              8537 non-null   int64              \n",
      " 18  retweet_count              8537 non-null   int64              \n",
      " 19  retweeted                  8537 non-null   bool               \n",
      " 20  source                     8537 non-null   object             \n",
      " 21  text                       8537 non-null   object             \n",
      " 22  truncated                  8537 non-null   bool               \n",
      " 23  user                       8537 non-null   object             \n",
      " 24  possibly_sensitive         2264 non-null   float64            \n",
      " 25  extended_entities          791 non-null    object             \n",
      " 26  quoted_status              293 non-null    object             \n",
      " 27  quoted_status_id           424 non-null    float64            \n",
      " 28  quoted_status_id_str       424 non-null    float64            \n",
      " 29  retweeted_status           1489 non-null   object             \n",
      " 30  withheld_copyright         0 non-null      float64            \n",
      " 31  withheld_in_countries      0 non-null      object             \n",
      " 32  withheld_scope             0 non-null      object             \n",
      " 33  scopes                     0 non-null      object             \n",
      " 34  is_president               8537 non-null   int64              \n",
      " 35  is_win                     8537 non-null   int64              \n",
      "dtypes: bool(4), datetime64[ns, UTC](1), float64(9), int64(7), object(15)\n",
      "memory usage: 2.2+ MB\n"
     ]
    }
   ],
   "source": [
    "#Filtering tweets made as President and saving them to a new dataframe\n",
    "tweets_president = tweets_raw[tweets_raw['is_president'] == 1]\n",
    "tweets_president.info()"
   ]
  },
  {
   "cell_type": "code",
   "execution_count": 10,
   "metadata": {
    "ExecuteTime": {
     "end_time": "2020-07-31T14:44:27.923570Z",
     "start_time": "2020-07-31T14:44:27.917855Z"
    },
    "hidden": true
   },
   "outputs": [
    {
     "data": {
      "text/plain": [
       "Timestamp('2017-01-20 00:40:51+0000', tz='UTC')"
      ]
     },
     "execution_count": 10,
     "metadata": {},
     "output_type": "execute_result"
    }
   ],
   "source": [
    "#Checking the minimum date of this new dataframe to confirm the tweet date is after the start of Presidency\n",
    "tweets_president.created_at.min()"
   ]
  },
  {
   "cell_type": "code",
   "execution_count": 11,
   "metadata": {
    "ExecuteTime": {
     "end_time": "2020-07-31T14:44:27.930554Z",
     "start_time": "2020-07-31T14:44:27.925874Z"
    },
    "hidden": true
   },
   "outputs": [
    {
     "data": {
      "text/plain": [
       "'Total tweets made as President: 8537'"
      ]
     },
     "metadata": {},
     "output_type": "display_data"
    }
   ],
   "source": [
    "#Display the total no. of tweets made as President\n",
    "display(\"Total tweets made as President: \" +str(tweets_president.id_str.nunique()))"
   ]
  },
  {
   "cell_type": "code",
   "execution_count": 12,
   "metadata": {
    "ExecuteTime": {
     "end_time": "2020-07-31T14:44:27.943947Z",
     "start_time": "2020-07-31T14:44:27.932340Z"
    },
    "hidden": true
   },
   "outputs": [
    {
     "data": {
      "text/html": [
       "<div>\n",
       "<style scoped>\n",
       "    .dataframe tbody tr th:only-of-type {\n",
       "        vertical-align: middle;\n",
       "    }\n",
       "\n",
       "    .dataframe tbody tr th {\n",
       "        vertical-align: top;\n",
       "    }\n",
       "\n",
       "    .dataframe thead th {\n",
       "        text-align: right;\n",
       "    }\n",
       "</style>\n",
       "<table border=\"1\" class=\"dataframe\">\n",
       "  <thead>\n",
       "    <tr style=\"text-align: right;\">\n",
       "      <th></th>\n",
       "      <th>id</th>\n",
       "      <th>id_str</th>\n",
       "      <th>created_at</th>\n",
       "      <th>text</th>\n",
       "    </tr>\n",
       "  </thead>\n",
       "  <tbody>\n",
       "    <tr>\n",
       "      <th>0</th>\n",
       "      <td>822242449053614081</td>\n",
       "      <td>822242449053614080</td>\n",
       "      <td>2017-01-20 00:40:51+00:00</td>\n",
       "      <td>Thank you for joining us at the Lincoln Memori...</td>\n",
       "    </tr>\n",
       "    <tr>\n",
       "      <th>1</th>\n",
       "      <td>822298747421986828</td>\n",
       "      <td>822298747421986816</td>\n",
       "      <td>2017-01-20 04:24:33+00:00</td>\n",
       "      <td>Thank you for a wonderful evening in Washingto...</td>\n",
       "    </tr>\n",
       "    <tr>\n",
       "      <th>2</th>\n",
       "      <td>822421390125043713</td>\n",
       "      <td>822421390125043712</td>\n",
       "      <td>2017-01-20 12:31:53+00:00</td>\n",
       "      <td>It all begins today! I will see you at 11:00 A...</td>\n",
       "    </tr>\n",
       "    <tr>\n",
       "      <th>3</th>\n",
       "      <td>822501803615014918</td>\n",
       "      <td>822501803615014912</td>\n",
       "      <td>2017-01-20 17:51:25+00:00</td>\n",
       "      <td>Today we are not merely transferring power fro...</td>\n",
       "    </tr>\n",
       "    <tr>\n",
       "      <th>4</th>\n",
       "      <td>822501939267141634</td>\n",
       "      <td>822501939267141632</td>\n",
       "      <td>2017-01-20 17:51:58+00:00</td>\n",
       "      <td>power from Washington, D.C. and giving it back...</td>\n",
       "    </tr>\n",
       "  </tbody>\n",
       "</table>\n",
       "</div>"
      ],
      "text/plain": [
       "                   id              id_str                created_at  \\\n",
       "0  822242449053614081  822242449053614080 2017-01-20 00:40:51+00:00   \n",
       "1  822298747421986828  822298747421986816 2017-01-20 04:24:33+00:00   \n",
       "2  822421390125043713  822421390125043712 2017-01-20 12:31:53+00:00   \n",
       "3  822501803615014918  822501803615014912 2017-01-20 17:51:25+00:00   \n",
       "4  822501939267141634  822501939267141632 2017-01-20 17:51:58+00:00   \n",
       "\n",
       "                                                text  \n",
       "0  Thank you for joining us at the Lincoln Memori...  \n",
       "1  Thank you for a wonderful evening in Washingto...  \n",
       "2  It all begins today! I will see you at 11:00 A...  \n",
       "3  Today we are not merely transferring power fro...  \n",
       "4  power from Washington, D.C. and giving it back...  "
      ]
     },
     "execution_count": 12,
     "metadata": {},
     "output_type": "execute_result"
    }
   ],
   "source": [
    "#Create a new dataframe with only required columns from the President tweets dataframe\n",
    "df = tweets_president[['id','id_str','created_at','text']]\n",
    "df.reset_index(inplace=True,drop=True)\n",
    "df.head()"
   ]
  },
  {
   "cell_type": "code",
   "execution_count": 13,
   "metadata": {
    "ExecuteTime": {
     "end_time": "2020-07-31T14:44:27.949808Z",
     "start_time": "2020-07-31T14:44:27.945739Z"
    },
    "hidden": true
   },
   "outputs": [
    {
     "data": {
      "text/plain": [
       "'Thank you for joining us at the Lincoln Memorial tonight- a very special evening! Together, we are going to MAKE AM… https://t.co/OSxa3BamHs'"
      ]
     },
     "execution_count": 13,
     "metadata": {},
     "output_type": "execute_result"
    }
   ],
   "source": [
    "#Check a row text sample\n",
    "df['text'][0]"
   ]
  },
  {
   "cell_type": "markdown",
   "metadata": {
    "heading_collapsed": true,
    "hidden": true
   },
   "source": [
    "## Feature Extraction"
   ]
  },
  {
   "cell_type": "markdown",
   "metadata": {
    "hidden": true
   },
   "source": [
    "We primariliy work on the simple tweets dataframe from above.\n",
    "\n",
    "1. We clean the tweet text data by removing punctuation and stopwords while preserving thes original tweet text column.\n",
    "2. We then extract the feature based on the clean text and stop words.\n",
    "3. We also identify the Parts of Speech and generate features based on the Parts of Speech tagging."
   ]
  },
  {
   "cell_type": "markdown",
   "metadata": {
    "heading_collapsed": true,
    "hidden": true
   },
   "source": [
    "### Cleaning - Punctuation & Stopwords"
   ]
  },
  {
   "cell_type": "code",
   "execution_count": 14,
   "metadata": {
    "ExecuteTime": {
     "end_time": "2020-07-31T14:44:27.957895Z",
     "start_time": "2020-07-31T14:44:27.952006Z"
    },
    "code_folding": [
     0
    ],
    "hidden": true
   },
   "outputs": [],
   "source": [
    "def text_cleaner(raw_text):\n",
    "    \"\"\"Function takes raw text data and removes punctuation and stop words and \n",
    "    converts the text to lower case and returns the clean text and the stop words in the raw text\"\"\"\n",
    "    \n",
    "    #word tokenize to create word tokens of the raw text\n",
    "    tokens = nltk.word_tokenize(raw_text)\n",
    "    \n",
    "    #Create an NLTK Text object from the word tokens\n",
    "    text = nltk.Text(tokens)\n",
    "    \n",
    "    #Remove punctuation from the text object and store in a new variable\n",
    "    text_clean = [w for w in text if w not in string.punctuation]\n",
    "    \n",
    "    #store the stopwords in the raw text to a new variable\n",
    "    text_stop = [w.lower() for w in text_clean if w.lower() in stopwords.words('english')]\n",
    "    \n",
    "    #Remove the stopwords and convert the above clean text to lower case\n",
    "    text_clean = [w.lower() for w in text_clean if w.lower() not in stopwords.words('english')]\n",
    "    \n",
    "    #Return the clean text data and stop words in the raw text data\n",
    "    return text_clean, text_stop"
   ]
  },
  {
   "cell_type": "code",
   "execution_count": 15,
   "metadata": {
    "ExecuteTime": {
     "end_time": "2020-07-31T14:45:06.886296Z",
     "start_time": "2020-07-31T14:44:27.959661Z"
    },
    "hidden": true
   },
   "outputs": [
    {
     "name": "stderr",
     "output_type": "stream",
     "text": [
      "/anaconda3/lib/python3.7/site-packages/ipykernel_launcher.py:2: SettingWithCopyWarning: \n",
      "A value is trying to be set on a copy of a slice from a DataFrame.\n",
      "Try using .loc[row_indexer,col_indexer] = value instead\n",
      "\n",
      "See the caveats in the documentation: https://pandas.pydata.org/pandas-docs/stable/user_guide/indexing.html#returning-a-view-versus-a-copy\n",
      "  \n"
     ]
    },
    {
     "data": {
      "text/html": [
       "<div>\n",
       "<style scoped>\n",
       "    .dataframe tbody tr th:only-of-type {\n",
       "        vertical-align: middle;\n",
       "    }\n",
       "\n",
       "    .dataframe tbody tr th {\n",
       "        vertical-align: top;\n",
       "    }\n",
       "\n",
       "    .dataframe thead th {\n",
       "        text-align: right;\n",
       "    }\n",
       "</style>\n",
       "<table border=\"1\" class=\"dataframe\">\n",
       "  <thead>\n",
       "    <tr style=\"text-align: right;\">\n",
       "      <th></th>\n",
       "      <th>id</th>\n",
       "      <th>id_str</th>\n",
       "      <th>created_at</th>\n",
       "      <th>text</th>\n",
       "      <th>text_clean</th>\n",
       "      <th>text_stop</th>\n",
       "    </tr>\n",
       "  </thead>\n",
       "  <tbody>\n",
       "    <tr>\n",
       "      <th>0</th>\n",
       "      <td>822242449053614081</td>\n",
       "      <td>822242449053614080</td>\n",
       "      <td>2017-01-20 00:40:51+00:00</td>\n",
       "      <td>Thank you for joining us at the Lincoln Memori...</td>\n",
       "      <td>[thank, joining, us, lincoln, memorial, tonigh...</td>\n",
       "      <td>[you, for, at, the, a, very, we, are, to]</td>\n",
       "    </tr>\n",
       "    <tr>\n",
       "      <th>1</th>\n",
       "      <td>822298747421986828</td>\n",
       "      <td>822298747421986816</td>\n",
       "      <td>2017-01-20 04:24:33+00:00</td>\n",
       "      <td>Thank you for a wonderful evening in Washingto...</td>\n",
       "      <td>[thank, wonderful, evening, washington, d.c., ...</td>\n",
       "      <td>[you, for, a, in]</td>\n",
       "    </tr>\n",
       "    <tr>\n",
       "      <th>2</th>\n",
       "      <td>822421390125043713</td>\n",
       "      <td>822421390125043712</td>\n",
       "      <td>2017-01-20 12:31:53+00:00</td>\n",
       "      <td>It all begins today! I will see you at 11:00 A...</td>\n",
       "      <td>[begins, today, see, 11:00, a.m., swearing-in,...</td>\n",
       "      <td>[it, all, i, will, you, at, for, the, the, the]</td>\n",
       "    </tr>\n",
       "    <tr>\n",
       "      <th>3</th>\n",
       "      <td>822501803615014918</td>\n",
       "      <td>822501803615014912</td>\n",
       "      <td>2017-01-20 17:51:25+00:00</td>\n",
       "      <td>Today we are not merely transferring power fro...</td>\n",
       "      <td>[today, merely, transferring, power, one, admi...</td>\n",
       "      <td>[we, are, not, from, to, or, from, to, but, we...</td>\n",
       "    </tr>\n",
       "    <tr>\n",
       "      <th>4</th>\n",
       "      <td>822501939267141634</td>\n",
       "      <td>822501939267141632</td>\n",
       "      <td>2017-01-20 17:51:58+00:00</td>\n",
       "      <td>power from Washington, D.C. and giving it back...</td>\n",
       "      <td>[power, washington, d.c., giving, back, americ...</td>\n",
       "      <td>[from, and, it, to, you, the]</td>\n",
       "    </tr>\n",
       "  </tbody>\n",
       "</table>\n",
       "</div>"
      ],
      "text/plain": [
       "                   id              id_str                created_at  \\\n",
       "0  822242449053614081  822242449053614080 2017-01-20 00:40:51+00:00   \n",
       "1  822298747421986828  822298747421986816 2017-01-20 04:24:33+00:00   \n",
       "2  822421390125043713  822421390125043712 2017-01-20 12:31:53+00:00   \n",
       "3  822501803615014918  822501803615014912 2017-01-20 17:51:25+00:00   \n",
       "4  822501939267141634  822501939267141632 2017-01-20 17:51:58+00:00   \n",
       "\n",
       "                                                text  \\\n",
       "0  Thank you for joining us at the Lincoln Memori...   \n",
       "1  Thank you for a wonderful evening in Washingto...   \n",
       "2  It all begins today! I will see you at 11:00 A...   \n",
       "3  Today we are not merely transferring power fro...   \n",
       "4  power from Washington, D.C. and giving it back...   \n",
       "\n",
       "                                          text_clean  \\\n",
       "0  [thank, joining, us, lincoln, memorial, tonigh...   \n",
       "1  [thank, wonderful, evening, washington, d.c., ...   \n",
       "2  [begins, today, see, 11:00, a.m., swearing-in,...   \n",
       "3  [today, merely, transferring, power, one, admi...   \n",
       "4  [power, washington, d.c., giving, back, americ...   \n",
       "\n",
       "                                           text_stop  \n",
       "0          [you, for, at, the, a, very, we, are, to]  \n",
       "1                                  [you, for, a, in]  \n",
       "2    [it, all, i, will, you, at, for, the, the, the]  \n",
       "3  [we, are, not, from, to, or, from, to, but, we...  \n",
       "4                      [from, and, it, to, you, the]  "
      ]
     },
     "execution_count": 15,
     "metadata": {},
     "output_type": "execute_result"
    }
   ],
   "source": [
    "#add two new columns of clean lower case text after removing stop words/punctuation and only stop words\n",
    "df['text_clean'], df['text_stop'] = zip(*df['text'].map(text_cleaner))\n",
    "df.head()"
   ]
  },
  {
   "cell_type": "code",
   "execution_count": 16,
   "metadata": {
    "ExecuteTime": {
     "end_time": "2020-07-31T14:45:08.541494Z",
     "start_time": "2020-07-31T14:45:06.888279Z"
    },
    "hidden": true
   },
   "outputs": [
    {
     "name": "stderr",
     "output_type": "stream",
     "text": [
      "/anaconda3/lib/python3.7/site-packages/ipykernel_launcher.py:4: SettingWithCopyWarning: \n",
      "A value is trying to be set on a copy of a slice from a DataFrame.\n",
      "Try using .loc[row_indexer,col_indexer] = value instead\n",
      "\n",
      "See the caveats in the documentation: https://pandas.pydata.org/pandas-docs/stable/user_guide/indexing.html#returning-a-view-versus-a-copy\n",
      "  after removing the cwd from sys.path.\n",
      "/anaconda3/lib/python3.7/site-packages/ipykernel_launcher.py:7: SettingWithCopyWarning: \n",
      "A value is trying to be set on a copy of a slice from a DataFrame.\n",
      "Try using .loc[row_indexer,col_indexer] = value instead\n",
      "\n",
      "See the caveats in the documentation: https://pandas.pydata.org/pandas-docs/stable/user_guide/indexing.html#returning-a-view-versus-a-copy\n",
      "  import sys\n",
      "/anaconda3/lib/python3.7/site-packages/ipykernel_launcher.py:10: SettingWithCopyWarning: \n",
      "A value is trying to be set on a copy of a slice from a DataFrame.\n",
      "Try using .loc[row_indexer,col_indexer] = value instead\n",
      "\n",
      "See the caveats in the documentation: https://pandas.pydata.org/pandas-docs/stable/user_guide/indexing.html#returning-a-view-versus-a-copy\n",
      "  # Remove the CWD from sys.path while we load stuff.\n",
      "/anaconda3/lib/python3.7/site-packages/ipykernel_launcher.py:13: SettingWithCopyWarning: \n",
      "A value is trying to be set on a copy of a slice from a DataFrame.\n",
      "Try using .loc[row_indexer,col_indexer] = value instead\n",
      "\n",
      "See the caveats in the documentation: https://pandas.pydata.org/pandas-docs/stable/user_guide/indexing.html#returning-a-view-versus-a-copy\n",
      "  del sys.path[0]\n"
     ]
    },
    {
     "data": {
      "text/html": [
       "<div>\n",
       "<style scoped>\n",
       "    .dataframe tbody tr th:only-of-type {\n",
       "        vertical-align: middle;\n",
       "    }\n",
       "\n",
       "    .dataframe tbody tr th {\n",
       "        vertical-align: top;\n",
       "    }\n",
       "\n",
       "    .dataframe thead th {\n",
       "        text-align: right;\n",
       "    }\n",
       "</style>\n",
       "<table border=\"1\" class=\"dataframe\">\n",
       "  <thead>\n",
       "    <tr style=\"text-align: right;\">\n",
       "      <th></th>\n",
       "      <th>id</th>\n",
       "      <th>id_str</th>\n",
       "      <th>created_at</th>\n",
       "      <th>text</th>\n",
       "      <th>text_clean</th>\n",
       "      <th>text_stop</th>\n",
       "      <th>text_len</th>\n",
       "      <th>text_nwords</th>\n",
       "      <th>text_clean_nwords</th>\n",
       "      <th>text_stop_nwords</th>\n",
       "    </tr>\n",
       "  </thead>\n",
       "  <tbody>\n",
       "    <tr>\n",
       "      <th>0</th>\n",
       "      <td>822242449053614081</td>\n",
       "      <td>822242449053614080</td>\n",
       "      <td>2017-01-20 00:40:51+00:00</td>\n",
       "      <td>Thank you for joining us at the Lincoln Memori...</td>\n",
       "      <td>[thank, joining, us, lincoln, memorial, tonigh...</td>\n",
       "      <td>[you, for, at, the, a, very, we, are, to]</td>\n",
       "      <td>140</td>\n",
       "      <td>26</td>\n",
       "      <td>14</td>\n",
       "      <td>9</td>\n",
       "    </tr>\n",
       "    <tr>\n",
       "      <th>1</th>\n",
       "      <td>822298747421986828</td>\n",
       "      <td>822298747421986816</td>\n",
       "      <td>2017-01-20 04:24:33+00:00</td>\n",
       "      <td>Thank you for a wonderful evening in Washingto...</td>\n",
       "      <td>[thank, wonderful, evening, washington, d.c., ...</td>\n",
       "      <td>[you, for, a, in]</td>\n",
       "      <td>91</td>\n",
       "      <td>15</td>\n",
       "      <td>8</td>\n",
       "      <td>4</td>\n",
       "    </tr>\n",
       "    <tr>\n",
       "      <th>2</th>\n",
       "      <td>822421390125043713</td>\n",
       "      <td>822421390125043712</td>\n",
       "      <td>2017-01-20 12:31:53+00:00</td>\n",
       "      <td>It all begins today! I will see you at 11:00 A...</td>\n",
       "      <td>[begins, today, see, 11:00, a.m., swearing-in,...</td>\n",
       "      <td>[it, all, i, will, you, at, for, the, the, the]</td>\n",
       "      <td>112</td>\n",
       "      <td>24</td>\n",
       "      <td>10</td>\n",
       "      <td>10</td>\n",
       "    </tr>\n",
       "    <tr>\n",
       "      <th>3</th>\n",
       "      <td>822501803615014918</td>\n",
       "      <td>822501803615014912</td>\n",
       "      <td>2017-01-20 17:51:25+00:00</td>\n",
       "      <td>Today we are not merely transferring power fro...</td>\n",
       "      <td>[today, merely, transferring, power, one, admi...</td>\n",
       "      <td>[we, are, not, from, to, or, from, to, but, we...</td>\n",
       "      <td>136</td>\n",
       "      <td>25</td>\n",
       "      <td>13</td>\n",
       "      <td>11</td>\n",
       "    </tr>\n",
       "    <tr>\n",
       "      <th>4</th>\n",
       "      <td>822501939267141634</td>\n",
       "      <td>822501939267141632</td>\n",
       "      <td>2017-01-20 17:51:58+00:00</td>\n",
       "      <td>power from Washington, D.C. and giving it back...</td>\n",
       "      <td>[power, washington, d.c., giving, back, americ...</td>\n",
       "      <td>[from, and, it, to, you, the]</td>\n",
       "      <td>92</td>\n",
       "      <td>18</td>\n",
       "      <td>8</td>\n",
       "      <td>6</td>\n",
       "    </tr>\n",
       "  </tbody>\n",
       "</table>\n",
       "</div>"
      ],
      "text/plain": [
       "                   id              id_str                created_at  \\\n",
       "0  822242449053614081  822242449053614080 2017-01-20 00:40:51+00:00   \n",
       "1  822298747421986828  822298747421986816 2017-01-20 04:24:33+00:00   \n",
       "2  822421390125043713  822421390125043712 2017-01-20 12:31:53+00:00   \n",
       "3  822501803615014918  822501803615014912 2017-01-20 17:51:25+00:00   \n",
       "4  822501939267141634  822501939267141632 2017-01-20 17:51:58+00:00   \n",
       "\n",
       "                                                text  \\\n",
       "0  Thank you for joining us at the Lincoln Memori...   \n",
       "1  Thank you for a wonderful evening in Washingto...   \n",
       "2  It all begins today! I will see you at 11:00 A...   \n",
       "3  Today we are not merely transferring power fro...   \n",
       "4  power from Washington, D.C. and giving it back...   \n",
       "\n",
       "                                          text_clean  \\\n",
       "0  [thank, joining, us, lincoln, memorial, tonigh...   \n",
       "1  [thank, wonderful, evening, washington, d.c., ...   \n",
       "2  [begins, today, see, 11:00, a.m., swearing-in,...   \n",
       "3  [today, merely, transferring, power, one, admi...   \n",
       "4  [power, washington, d.c., giving, back, americ...   \n",
       "\n",
       "                                           text_stop  text_len  text_nwords  \\\n",
       "0          [you, for, at, the, a, very, we, are, to]       140           26   \n",
       "1                                  [you, for, a, in]        91           15   \n",
       "2    [it, all, i, will, you, at, for, the, the, the]       112           24   \n",
       "3  [we, are, not, from, to, or, from, to, but, we...       136           25   \n",
       "4                      [from, and, it, to, you, the]        92           18   \n",
       "\n",
       "   text_clean_nwords  text_stop_nwords  \n",
       "0                 14                 9  \n",
       "1                  8                 4  \n",
       "2                 10                10  \n",
       "3                 13                11  \n",
       "4                  8                 6  "
      ]
     },
     "execution_count": 16,
     "metadata": {},
     "output_type": "execute_result"
    }
   ],
   "source": [
    "#Extract the features based on the original tweet text, clean text and stop words in the tweet\n",
    "\n",
    "#Original tweet text length\n",
    "df['text_len'] = df['text'].apply(lambda x: len(x))\n",
    "\n",
    "#no. of words in the original tweet text\n",
    "df['text_nwords'] = df['text'].apply(lambda x: len(word_tokenize(x)))\n",
    "\n",
    "#no. of words in the clean text\n",
    "df['text_clean_nwords'] = df['text_clean'].apply(lambda x: len(x))\n",
    "\n",
    "#no. of stopwords in the original tweet text\n",
    "df['text_stop_nwords'] = df['text_stop'].apply(lambda x: len(x))\n",
    "\n",
    "#Display the top rows of the dataframe\n",
    "df.head()"
   ]
  },
  {
   "cell_type": "markdown",
   "metadata": {
    "heading_collapsed": true,
    "hidden": true
   },
   "source": [
    "### Parts of Speech"
   ]
  },
  {
   "cell_type": "code",
   "execution_count": 17,
   "metadata": {
    "ExecuteTime": {
     "end_time": "2020-07-31T14:45:08.548321Z",
     "start_time": "2020-07-31T14:45:08.543954Z"
    },
    "hidden": true
   },
   "outputs": [],
   "source": [
    "def pos_classifier(pos):\n",
    "    \"\"\"Function to classify/map NLTK Parts of Speech symbol to respective Parts of Speech Category Name\"\"\"\n",
    "    if pos.startswith(\"N\"):\n",
    "        return \"Noun\"\n",
    "    elif pos.startswith(\"J\"):\n",
    "        return \"Adjective\"\n",
    "    elif pos.startswith(\"RB\"):\n",
    "        return \"Adverb\"\n",
    "    elif pos.startswith(\"V\"):\n",
    "        return \"Verb\"\n",
    "    else:\n",
    "        return \"Other\""
   ]
  },
  {
   "cell_type": "code",
   "execution_count": 18,
   "metadata": {
    "ExecuteTime": {
     "end_time": "2020-07-31T14:45:08.560232Z",
     "start_time": "2020-07-31T14:45:08.554086Z"
    },
    "hidden": true
   },
   "outputs": [],
   "source": [
    "def pos_counter(text_clean):\n",
    "    \"\"\"Function to count the number of nouns, verbs, adverbs, adjectives in the input text\"\"\"\n",
    "    \n",
    "    #Tag Parts of Speech of the clean text\n",
    "    text_clean_pos = nltk.pos_tag(text_clean)\n",
    "\n",
    "    #Count the no. of words for each POS tag\n",
    "    counts = Counter(tag for word,tag in text_clean_pos)\n",
    "    \n",
    "    #Saving the POS tag and count as a dictionary\n",
    "    pos_dict = dict((word, float(count)) for word,count in counts.items())\n",
    "\n",
    "    #Saving the dictionary to a DataFrame\n",
    "    df_pos = pd.DataFrame(pos_dict.items(),columns=['POS','Share'])\n",
    "\n",
    "    #Classifying based on the POS Symbol and above defined pos_classifier function\n",
    "    df_pos['Main POS'] = df_pos['POS'].apply(pos_classifier)\n",
    "    df_pos.sort_values(by=['Share'],inplace=True,ascending=False,ignore_index=True)\n",
    "\n",
    "    #Printing the resulting DF and grouped based on new classication\n",
    "    df_pos_agg = df_pos.groupby('Main POS').sum().sort_values(by=['Share'],ascending=False)\n",
    "    \n",
    "    dicty = df_pos_agg['Share'].to_dict()\n",
    "    \n",
    "    #return the no. of Nouns, Verbs, Adverbs and Ajectives in the clean text\n",
    "    return dicty.get('Noun'), dicty.get('Verb'), dicty.get('Adverb'), dicty.get('Adjective')"
   ]
  },
  {
   "cell_type": "code",
   "execution_count": 19,
   "metadata": {
    "ExecuteTime": {
     "end_time": "2020-07-31T14:45:41.971532Z",
     "start_time": "2020-07-31T14:45:08.563228Z"
    },
    "hidden": true
   },
   "outputs": [
    {
     "name": "stderr",
     "output_type": "stream",
     "text": [
      "/anaconda3/lib/python3.7/site-packages/ipykernel_launcher.py:2: SettingWithCopyWarning: \n",
      "A value is trying to be set on a copy of a slice from a DataFrame.\n",
      "Try using .loc[row_indexer,col_indexer] = value instead\n",
      "\n",
      "See the caveats in the documentation: https://pandas.pydata.org/pandas-docs/stable/user_guide/indexing.html#returning-a-view-versus-a-copy\n",
      "  \n",
      "/anaconda3/lib/python3.7/site-packages/ipykernel_launcher.py:3: SettingWithCopyWarning: \n",
      "A value is trying to be set on a copy of a slice from a DataFrame.\n",
      "Try using .loc[row_indexer,col_indexer] = value instead\n",
      "\n",
      "See the caveats in the documentation: https://pandas.pydata.org/pandas-docs/stable/user_guide/indexing.html#returning-a-view-versus-a-copy\n",
      "  This is separate from the ipykernel package so we can avoid doing imports until\n"
     ]
    },
    {
     "data": {
      "text/html": [
       "<div>\n",
       "<style scoped>\n",
       "    .dataframe tbody tr th:only-of-type {\n",
       "        vertical-align: middle;\n",
       "    }\n",
       "\n",
       "    .dataframe tbody tr th {\n",
       "        vertical-align: top;\n",
       "    }\n",
       "\n",
       "    .dataframe thead th {\n",
       "        text-align: right;\n",
       "    }\n",
       "</style>\n",
       "<table border=\"1\" class=\"dataframe\">\n",
       "  <thead>\n",
       "    <tr style=\"text-align: right;\">\n",
       "      <th></th>\n",
       "      <th>id</th>\n",
       "      <th>id_str</th>\n",
       "      <th>created_at</th>\n",
       "      <th>text</th>\n",
       "      <th>text_clean</th>\n",
       "      <th>text_stop</th>\n",
       "      <th>text_len</th>\n",
       "      <th>text_nwords</th>\n",
       "      <th>text_clean_nwords</th>\n",
       "      <th>text_stop_nwords</th>\n",
       "      <th>pos_noun</th>\n",
       "      <th>pos_verb</th>\n",
       "      <th>pos_adverb</th>\n",
       "      <th>pos_adj</th>\n",
       "      <th>Date</th>\n",
       "    </tr>\n",
       "  </thead>\n",
       "  <tbody>\n",
       "    <tr>\n",
       "      <th>0</th>\n",
       "      <td>822242449053614081</td>\n",
       "      <td>822242449053614080</td>\n",
       "      <td>2017-01-20 00:40:51+00:00</td>\n",
       "      <td>Thank you for joining us at the Lincoln Memori...</td>\n",
       "      <td>[thank, joining, us, lincoln, memorial, tonigh...</td>\n",
       "      <td>[you, for, at, the, a, very, we, are, to]</td>\n",
       "      <td>140</td>\n",
       "      <td>26</td>\n",
       "      <td>14</td>\n",
       "      <td>9</td>\n",
       "      <td>5.000</td>\n",
       "      <td>3.000</td>\n",
       "      <td>1.000</td>\n",
       "      <td>4.000</td>\n",
       "      <td>2017-01-20</td>\n",
       "    </tr>\n",
       "    <tr>\n",
       "      <th>8536</th>\n",
       "      <td>1149345683138367491</td>\n",
       "      <td>1149345683138367488</td>\n",
       "      <td>2019-07-11 15:52:19+00:00</td>\n",
       "      <td>...or a very nervous and skinny version of Poc...</td>\n",
       "      <td>[..., nervous, skinny, version, pocahontas, 1/...</td>\n",
       "      <td>[or, a, very, and, of, as, your, than, what, y...</td>\n",
       "      <td>140</td>\n",
       "      <td>29</td>\n",
       "      <td>11</td>\n",
       "      <td>12</td>\n",
       "      <td>6.000</td>\n",
       "      <td>None</td>\n",
       "      <td>1.000</td>\n",
       "      <td>2.000</td>\n",
       "      <td>2019-07-11</td>\n",
       "    </tr>\n",
       "  </tbody>\n",
       "</table>\n",
       "</div>"
      ],
      "text/plain": [
       "                       id               id_str                created_at  \\\n",
       "0      822242449053614081   822242449053614080 2017-01-20 00:40:51+00:00   \n",
       "8536  1149345683138367491  1149345683138367488 2019-07-11 15:52:19+00:00   \n",
       "\n",
       "                                                   text  \\\n",
       "0     Thank you for joining us at the Lincoln Memori...   \n",
       "8536  ...or a very nervous and skinny version of Poc...   \n",
       "\n",
       "                                             text_clean  \\\n",
       "0     [thank, joining, us, lincoln, memorial, tonigh...   \n",
       "8536  [..., nervous, skinny, version, pocahontas, 1/...   \n",
       "\n",
       "                                              text_stop  text_len  \\\n",
       "0             [you, for, at, the, a, very, we, are, to]       140   \n",
       "8536  [or, a, very, and, of, as, your, than, what, y...       140   \n",
       "\n",
       "      text_nwords  text_clean_nwords  text_stop_nwords pos_noun pos_verb  \\\n",
       "0              26                 14                 9    5.000    3.000   \n",
       "8536           29                 11                12    6.000     None   \n",
       "\n",
       "     pos_adverb pos_adj       Date  \n",
       "0         1.000   4.000 2017-01-20  \n",
       "8536      1.000   2.000 2019-07-11  "
      ]
     },
     "execution_count": 19,
     "metadata": {},
     "output_type": "execute_result"
    }
   ],
   "source": [
    "#Add columns for no. of of nouns, verbs, adverbs, adjectives in the cleaned tweet\n",
    "df['pos_noun'], df['pos_verb'], df['pos_adverb'], df['pos_adj'] = zip(*df['text_clean'].map(pos_counter))\n",
    "df['Date'] = df['created_at'].dt.date.astype('datetime64')\n",
    "\n",
    "#Display the first and last row if the dataframe\n",
    "df.iloc[[0, -1]]"
   ]
  },
  {
   "cell_type": "code",
   "execution_count": 20,
   "metadata": {
    "ExecuteTime": {
     "end_time": "2020-07-31T14:45:41.991120Z",
     "start_time": "2020-07-31T14:45:41.973892Z"
    },
    "hidden": true
   },
   "outputs": [
    {
     "name": "stdout",
     "output_type": "stream",
     "text": [
      "<class 'pandas.core.frame.DataFrame'>\n",
      "RangeIndex: 8537 entries, 0 to 8536\n",
      "Data columns (total 15 columns):\n",
      " #   Column             Non-Null Count  Dtype              \n",
      "---  ------             --------------  -----              \n",
      " 0   id                 8537 non-null   int64              \n",
      " 1   id_str             8537 non-null   int64              \n",
      " 2   created_at         8537 non-null   datetime64[ns, UTC]\n",
      " 3   text               8537 non-null   object             \n",
      " 4   text_clean         8537 non-null   object             \n",
      " 5   text_stop          8537 non-null   object             \n",
      " 6   text_len           8537 non-null   int64              \n",
      " 7   text_nwords        8537 non-null   int64              \n",
      " 8   text_clean_nwords  8537 non-null   int64              \n",
      " 9   text_stop_nwords   8537 non-null   int64              \n",
      " 10  pos_noun           8534 non-null   object             \n",
      " 11  pos_verb           7483 non-null   object             \n",
      " 12  pos_adverb         3524 non-null   object             \n",
      " 13  pos_adj            7655 non-null   object             \n",
      " 14  Date               8537 non-null   datetime64[ns]     \n",
      "dtypes: datetime64[ns, UTC](1), datetime64[ns](1), int64(6), object(7)\n",
      "memory usage: 1000.6+ KB\n"
     ]
    }
   ],
   "source": [
    "df.info()"
   ]
  },
  {
   "cell_type": "markdown",
   "metadata": {
    "heading_collapsed": true
   },
   "source": [
    "# Stock Market Data"
   ]
  },
  {
   "cell_type": "markdown",
   "metadata": {
    "hidden": true
   },
   "source": [
    "For the stock market performance data we have used the S&P500 daily dataset from 2016 to 2020."
   ]
  },
  {
   "cell_type": "code",
   "execution_count": 21,
   "metadata": {
    "ExecuteTime": {
     "end_time": "2020-07-31T14:45:42.009208Z",
     "start_time": "2020-07-31T14:45:41.994654Z"
    },
    "hidden": true
   },
   "outputs": [
    {
     "data": {
      "text/html": [
       "<div>\n",
       "<style scoped>\n",
       "    .dataframe tbody tr th:only-of-type {\n",
       "        vertical-align: middle;\n",
       "    }\n",
       "\n",
       "    .dataframe tbody tr th {\n",
       "        vertical-align: top;\n",
       "    }\n",
       "\n",
       "    .dataframe thead th {\n",
       "        text-align: right;\n",
       "    }\n",
       "</style>\n",
       "<table border=\"1\" class=\"dataframe\">\n",
       "  <thead>\n",
       "    <tr style=\"text-align: right;\">\n",
       "      <th></th>\n",
       "      <th>Date</th>\n",
       "      <th>Open</th>\n",
       "      <th>High</th>\n",
       "      <th>Low</th>\n",
       "      <th>Close</th>\n",
       "    </tr>\n",
       "  </thead>\n",
       "  <tbody>\n",
       "    <tr>\n",
       "      <th>0</th>\n",
       "      <td>2016-01-01</td>\n",
       "      <td>10633.250</td>\n",
       "      <td>10691.890</td>\n",
       "      <td>10610.800</td>\n",
       "      <td>10680.480</td>\n",
       "    </tr>\n",
       "    <tr>\n",
       "      <th>1</th>\n",
       "      <td>2016-01-04</td>\n",
       "      <td>10672.750</td>\n",
       "      <td>10679.720</td>\n",
       "      <td>10474.770</td>\n",
       "      <td>10491.530</td>\n",
       "    </tr>\n",
       "    <tr>\n",
       "      <th>2</th>\n",
       "      <td>2016-01-05</td>\n",
       "      <td>10526.510</td>\n",
       "      <td>10545.920</td>\n",
       "      <td>10464.690</td>\n",
       "      <td>10506.400</td>\n",
       "    </tr>\n",
       "    <tr>\n",
       "      <th>3</th>\n",
       "      <td>2016-01-06</td>\n",
       "      <td>10522.920</td>\n",
       "      <td>10539.770</td>\n",
       "      <td>10431.750</td>\n",
       "      <td>10451.930</td>\n",
       "    </tr>\n",
       "    <tr>\n",
       "      <th>4</th>\n",
       "      <td>2016-01-07</td>\n",
       "      <td>10389.340</td>\n",
       "      <td>10389.340</td>\n",
       "      <td>10183.960</td>\n",
       "      <td>10195.660</td>\n",
       "    </tr>\n",
       "  </tbody>\n",
       "</table>\n",
       "</div>"
      ],
      "text/plain": [
       "        Date      Open      High       Low     Close\n",
       "0 2016-01-01 10633.250 10691.890 10610.800 10680.480\n",
       "1 2016-01-04 10672.750 10679.720 10474.770 10491.530\n",
       "2 2016-01-05 10526.510 10545.920 10464.690 10506.400\n",
       "3 2016-01-06 10522.920 10539.770 10431.750 10451.930\n",
       "4 2016-01-07 10389.340 10389.340 10183.960 10195.660"
      ]
     },
     "execution_count": 21,
     "metadata": {},
     "output_type": "execute_result"
    }
   ],
   "source": [
    "#Read the S&P500 stock data from csv to DataFrame\n",
    "df_stockmarket = pd.read_csv('Stock Market Data S&P500_2016_2020.csv', sep=\";\", parse_dates=['Date'],index_col=False)\n",
    "\n",
    "#Sort the data by date from old to new and reset the index\n",
    "df_stockmarket.sort_values(by='Date',ascending=True,inplace=True)\n",
    "df_stockmarket.reset_index(inplace=True,drop=True)\n",
    "\n",
    "#Display the data\n",
    "df_stockmarket.head()"
   ]
  },
  {
   "cell_type": "code",
   "execution_count": 22,
   "metadata": {
    "ExecuteTime": {
     "end_time": "2020-07-31T14:45:42.066515Z",
     "start_time": "2020-07-31T14:45:42.011426Z"
    },
    "hidden": true
   },
   "outputs": [
    {
     "data": {
      "text/html": [
       "<div>\n",
       "<style scoped>\n",
       "    .dataframe tbody tr th:only-of-type {\n",
       "        vertical-align: middle;\n",
       "    }\n",
       "\n",
       "    .dataframe tbody tr th {\n",
       "        vertical-align: top;\n",
       "    }\n",
       "\n",
       "    .dataframe thead th {\n",
       "        text-align: right;\n",
       "    }\n",
       "</style>\n",
       "<table border=\"1\" class=\"dataframe\">\n",
       "  <thead>\n",
       "    <tr style=\"text-align: right;\">\n",
       "      <th></th>\n",
       "      <th>Date</th>\n",
       "      <th>Open</th>\n",
       "      <th>High</th>\n",
       "      <th>Low</th>\n",
       "      <th>Close</th>\n",
       "      <th>Daily Difference</th>\n",
       "      <th>Closing Prices Diff</th>\n",
       "    </tr>\n",
       "  </thead>\n",
       "  <tbody>\n",
       "    <tr>\n",
       "      <th>0</th>\n",
       "      <td>2016-01-01</td>\n",
       "      <td>10633.250</td>\n",
       "      <td>10691.890</td>\n",
       "      <td>10610.800</td>\n",
       "      <td>10680.480</td>\n",
       "      <td>47.230</td>\n",
       "      <td>nan</td>\n",
       "    </tr>\n",
       "    <tr>\n",
       "      <th>1</th>\n",
       "      <td>2016-01-04</td>\n",
       "      <td>10672.750</td>\n",
       "      <td>10679.720</td>\n",
       "      <td>10474.770</td>\n",
       "      <td>10491.530</td>\n",
       "      <td>-181.220</td>\n",
       "      <td>-188.950</td>\n",
       "    </tr>\n",
       "    <tr>\n",
       "      <th>2</th>\n",
       "      <td>2016-01-05</td>\n",
       "      <td>10526.510</td>\n",
       "      <td>10545.920</td>\n",
       "      <td>10464.690</td>\n",
       "      <td>10506.400</td>\n",
       "      <td>-20.110</td>\n",
       "      <td>14.870</td>\n",
       "    </tr>\n",
       "    <tr>\n",
       "      <th>3</th>\n",
       "      <td>2016-01-06</td>\n",
       "      <td>10522.920</td>\n",
       "      <td>10539.770</td>\n",
       "      <td>10431.750</td>\n",
       "      <td>10451.930</td>\n",
       "      <td>-70.990</td>\n",
       "      <td>-54.470</td>\n",
       "    </tr>\n",
       "    <tr>\n",
       "      <th>4</th>\n",
       "      <td>2016-01-07</td>\n",
       "      <td>10389.340</td>\n",
       "      <td>10389.340</td>\n",
       "      <td>10183.960</td>\n",
       "      <td>10195.660</td>\n",
       "      <td>-193.680</td>\n",
       "      <td>-256.270</td>\n",
       "    </tr>\n",
       "  </tbody>\n",
       "</table>\n",
       "</div>"
      ],
      "text/plain": [
       "        Date      Open      High       Low     Close  Daily Difference  \\\n",
       "0 2016-01-01 10633.250 10691.890 10610.800 10680.480            47.230   \n",
       "1 2016-01-04 10672.750 10679.720 10474.770 10491.530          -181.220   \n",
       "2 2016-01-05 10526.510 10545.920 10464.690 10506.400           -20.110   \n",
       "3 2016-01-06 10522.920 10539.770 10431.750 10451.930           -70.990   \n",
       "4 2016-01-07 10389.340 10389.340 10183.960 10195.660          -193.680   \n",
       "\n",
       "   Closing Prices Diff  \n",
       "0                  nan  \n",
       "1             -188.950  \n",
       "2               14.870  \n",
       "3              -54.470  \n",
       "4             -256.270  "
      ]
     },
     "execution_count": 22,
     "metadata": {},
     "output_type": "execute_result"
    }
   ],
   "source": [
    "#Add two more columns to the stock data:\n",
    "    #Daily Difference: the difference between opening and closing prices of a certain day\n",
    "    #Closing Prices Diff: difference between today and previous day closing prices\n",
    "\n",
    "df_stockmarket['Daily Difference'] = df_stockmarket.apply(lambda x: x['Close']- x['Open'], axis=1)\n",
    "df_stockmarket['Closing Prices Diff'] = df_stockmarket['Close'].diff()\n",
    "df_stockmarket.head()"
   ]
  },
  {
   "cell_type": "code",
   "execution_count": 23,
   "metadata": {
    "ExecuteTime": {
     "end_time": "2020-07-31T14:45:42.077093Z",
     "start_time": "2020-07-31T14:45:42.068694Z"
    },
    "hidden": true
   },
   "outputs": [
    {
     "name": "stdout",
     "output_type": "stream",
     "text": [
      "<class 'pandas.core.frame.DataFrame'>\n",
      "RangeIndex: 986 entries, 0 to 985\n",
      "Data columns (total 7 columns):\n",
      " #   Column               Non-Null Count  Dtype         \n",
      "---  ------               --------------  -----         \n",
      " 0   Date                 986 non-null    datetime64[ns]\n",
      " 1   Open                 986 non-null    float64       \n",
      " 2   High                 986 non-null    float64       \n",
      " 3   Low                  986 non-null    float64       \n",
      " 4   Close                986 non-null    float64       \n",
      " 5   Daily Difference     986 non-null    float64       \n",
      " 6   Closing Prices Diff  985 non-null    float64       \n",
      "dtypes: datetime64[ns](1), float64(6)\n",
      "memory usage: 54.0 KB\n"
     ]
    }
   ],
   "source": [
    "df_stockmarket.info()"
   ]
  },
  {
   "cell_type": "markdown",
   "metadata": {
    "heading_collapsed": true
   },
   "source": [
    "# Merging Tweets and Stock Market Data"
   ]
  },
  {
   "cell_type": "markdown",
   "metadata": {
    "hidden": true
   },
   "source": [
    "We merge the tweets data and the daily stock market performance data based on the <b>Date</b>. Since the stock market data is daily frequency and also is not available on certain days (non-working etc), the merged data would have missing values for the days where tweets were made and no stock market data is available. We will address this issue in the Preprocessing step later."
   ]
  },
  {
   "cell_type": "code",
   "execution_count": 24,
   "metadata": {
    "ExecuteTime": {
     "end_time": "2020-07-31T14:45:42.107039Z",
     "start_time": "2020-07-31T14:45:42.079030Z"
    },
    "hidden": true
   },
   "outputs": [
    {
     "data": {
      "text/html": [
       "<div>\n",
       "<style scoped>\n",
       "    .dataframe tbody tr th:only-of-type {\n",
       "        vertical-align: middle;\n",
       "    }\n",
       "\n",
       "    .dataframe tbody tr th {\n",
       "        vertical-align: top;\n",
       "    }\n",
       "\n",
       "    .dataframe thead th {\n",
       "        text-align: right;\n",
       "    }\n",
       "</style>\n",
       "<table border=\"1\" class=\"dataframe\">\n",
       "  <thead>\n",
       "    <tr style=\"text-align: right;\">\n",
       "      <th></th>\n",
       "      <th>id</th>\n",
       "      <th>id_str</th>\n",
       "      <th>created_at</th>\n",
       "      <th>text</th>\n",
       "      <th>text_clean</th>\n",
       "      <th>text_stop</th>\n",
       "      <th>text_len</th>\n",
       "      <th>text_nwords</th>\n",
       "      <th>text_clean_nwords</th>\n",
       "      <th>text_stop_nwords</th>\n",
       "      <th>pos_noun</th>\n",
       "      <th>pos_verb</th>\n",
       "      <th>pos_adverb</th>\n",
       "      <th>pos_adj</th>\n",
       "      <th>Date</th>\n",
       "      <th>Daily Difference</th>\n",
       "      <th>Closing Prices Diff</th>\n",
       "    </tr>\n",
       "  </thead>\n",
       "  <tbody>\n",
       "    <tr>\n",
       "      <th>0</th>\n",
       "      <td>822242449053614081</td>\n",
       "      <td>822242449053614080</td>\n",
       "      <td>2017-01-20 00:40:51+00:00</td>\n",
       "      <td>Thank you for joining us at the Lincoln Memori...</td>\n",
       "      <td>[thank, joining, us, lincoln, memorial, tonigh...</td>\n",
       "      <td>[you, for, at, the, a, very, we, are, to]</td>\n",
       "      <td>140</td>\n",
       "      <td>26</td>\n",
       "      <td>14</td>\n",
       "      <td>9</td>\n",
       "      <td>5.000</td>\n",
       "      <td>3.000</td>\n",
       "      <td>1.000</td>\n",
       "      <td>4.000</td>\n",
       "      <td>2017-01-20</td>\n",
       "      <td>-112.050</td>\n",
       "      <td>-107.780</td>\n",
       "    </tr>\n",
       "    <tr>\n",
       "      <th>1</th>\n",
       "      <td>822298747421986828</td>\n",
       "      <td>822298747421986816</td>\n",
       "      <td>2017-01-20 04:24:33+00:00</td>\n",
       "      <td>Thank you for a wonderful evening in Washingto...</td>\n",
       "      <td>[thank, wonderful, evening, washington, d.c., ...</td>\n",
       "      <td>[you, for, a, in]</td>\n",
       "      <td>91</td>\n",
       "      <td>15</td>\n",
       "      <td>8</td>\n",
       "      <td>4</td>\n",
       "      <td>6.000</td>\n",
       "      <td>1.000</td>\n",
       "      <td>None</td>\n",
       "      <td>1.000</td>\n",
       "      <td>2017-01-20</td>\n",
       "      <td>-112.050</td>\n",
       "      <td>-107.780</td>\n",
       "    </tr>\n",
       "    <tr>\n",
       "      <th>2</th>\n",
       "      <td>822421390125043713</td>\n",
       "      <td>822421390125043712</td>\n",
       "      <td>2017-01-20 12:31:53+00:00</td>\n",
       "      <td>It all begins today! I will see you at 11:00 A...</td>\n",
       "      <td>[begins, today, see, 11:00, a.m., swearing-in,...</td>\n",
       "      <td>[it, all, i, will, you, at, for, the, the, the]</td>\n",
       "      <td>112</td>\n",
       "      <td>24</td>\n",
       "      <td>10</td>\n",
       "      <td>10</td>\n",
       "      <td>5.000</td>\n",
       "      <td>2.000</td>\n",
       "      <td>1.000</td>\n",
       "      <td>1.000</td>\n",
       "      <td>2017-01-20</td>\n",
       "      <td>-112.050</td>\n",
       "      <td>-107.780</td>\n",
       "    </tr>\n",
       "    <tr>\n",
       "      <th>3</th>\n",
       "      <td>822501803615014918</td>\n",
       "      <td>822501803615014912</td>\n",
       "      <td>2017-01-20 17:51:25+00:00</td>\n",
       "      <td>Today we are not merely transferring power fro...</td>\n",
       "      <td>[today, merely, transferring, power, one, admi...</td>\n",
       "      <td>[we, are, not, from, to, or, from, to, but, we...</td>\n",
       "      <td>136</td>\n",
       "      <td>25</td>\n",
       "      <td>13</td>\n",
       "      <td>11</td>\n",
       "      <td>6.000</td>\n",
       "      <td>1.000</td>\n",
       "      <td>1.000</td>\n",
       "      <td>None</td>\n",
       "      <td>2017-01-20</td>\n",
       "      <td>-112.050</td>\n",
       "      <td>-107.780</td>\n",
       "    </tr>\n",
       "    <tr>\n",
       "      <th>4</th>\n",
       "      <td>822501939267141634</td>\n",
       "      <td>822501939267141632</td>\n",
       "      <td>2017-01-20 17:51:58+00:00</td>\n",
       "      <td>power from Washington, D.C. and giving it back...</td>\n",
       "      <td>[power, washington, d.c., giving, back, americ...</td>\n",
       "      <td>[from, and, it, to, you, the]</td>\n",
       "      <td>92</td>\n",
       "      <td>18</td>\n",
       "      <td>8</td>\n",
       "      <td>6</td>\n",
       "      <td>4.000</td>\n",
       "      <td>2.000</td>\n",
       "      <td>None</td>\n",
       "      <td>2.000</td>\n",
       "      <td>2017-01-20</td>\n",
       "      <td>-112.050</td>\n",
       "      <td>-107.780</td>\n",
       "    </tr>\n",
       "  </tbody>\n",
       "</table>\n",
       "</div>"
      ],
      "text/plain": [
       "                   id              id_str                created_at  \\\n",
       "0  822242449053614081  822242449053614080 2017-01-20 00:40:51+00:00   \n",
       "1  822298747421986828  822298747421986816 2017-01-20 04:24:33+00:00   \n",
       "2  822421390125043713  822421390125043712 2017-01-20 12:31:53+00:00   \n",
       "3  822501803615014918  822501803615014912 2017-01-20 17:51:25+00:00   \n",
       "4  822501939267141634  822501939267141632 2017-01-20 17:51:58+00:00   \n",
       "\n",
       "                                                text  \\\n",
       "0  Thank you for joining us at the Lincoln Memori...   \n",
       "1  Thank you for a wonderful evening in Washingto...   \n",
       "2  It all begins today! I will see you at 11:00 A...   \n",
       "3  Today we are not merely transferring power fro...   \n",
       "4  power from Washington, D.C. and giving it back...   \n",
       "\n",
       "                                          text_clean  \\\n",
       "0  [thank, joining, us, lincoln, memorial, tonigh...   \n",
       "1  [thank, wonderful, evening, washington, d.c., ...   \n",
       "2  [begins, today, see, 11:00, a.m., swearing-in,...   \n",
       "3  [today, merely, transferring, power, one, admi...   \n",
       "4  [power, washington, d.c., giving, back, americ...   \n",
       "\n",
       "                                           text_stop  text_len  text_nwords  \\\n",
       "0          [you, for, at, the, a, very, we, are, to]       140           26   \n",
       "1                                  [you, for, a, in]        91           15   \n",
       "2    [it, all, i, will, you, at, for, the, the, the]       112           24   \n",
       "3  [we, are, not, from, to, or, from, to, but, we...       136           25   \n",
       "4                      [from, and, it, to, you, the]        92           18   \n",
       "\n",
       "   text_clean_nwords  text_stop_nwords pos_noun pos_verb pos_adverb pos_adj  \\\n",
       "0                 14                 9    5.000    3.000      1.000   4.000   \n",
       "1                  8                 4    6.000    1.000       None   1.000   \n",
       "2                 10                10    5.000    2.000      1.000   1.000   \n",
       "3                 13                11    6.000    1.000      1.000    None   \n",
       "4                  8                 6    4.000    2.000       None   2.000   \n",
       "\n",
       "        Date  Daily Difference  Closing Prices Diff  \n",
       "0 2017-01-20          -112.050             -107.780  \n",
       "1 2017-01-20          -112.050             -107.780  \n",
       "2 2017-01-20          -112.050             -107.780  \n",
       "3 2017-01-20          -112.050             -107.780  \n",
       "4 2017-01-20          -112.050             -107.780  "
      ]
     },
     "execution_count": 24,
     "metadata": {},
     "output_type": "execute_result"
    }
   ],
   "source": [
    "#Merge the tweets dataframe and the stock market dataframe on the Date column and store in a new dataframe\n",
    "df_final = df.merge(df_stockmarket[['Date', 'Daily Difference', 'Closing Prices Diff']], on = 'Date', how = 'left')\n",
    "df_final.head()"
   ]
  },
  {
   "cell_type": "code",
   "execution_count": 25,
   "metadata": {
    "ExecuteTime": {
     "end_time": "2020-07-31T14:45:42.128971Z",
     "start_time": "2020-07-31T14:45:42.109148Z"
    },
    "hidden": true
   },
   "outputs": [
    {
     "name": "stdout",
     "output_type": "stream",
     "text": [
      "<class 'pandas.core.frame.DataFrame'>\n",
      "Int64Index: 8537 entries, 0 to 8536\n",
      "Data columns (total 17 columns):\n",
      " #   Column               Non-Null Count  Dtype              \n",
      "---  ------               --------------  -----              \n",
      " 0   id                   8537 non-null   int64              \n",
      " 1   id_str               8537 non-null   int64              \n",
      " 2   created_at           8537 non-null   datetime64[ns, UTC]\n",
      " 3   text                 8537 non-null   object             \n",
      " 4   text_clean           8537 non-null   object             \n",
      " 5   text_stop            8537 non-null   object             \n",
      " 6   text_len             8537 non-null   int64              \n",
      " 7   text_nwords          8537 non-null   int64              \n",
      " 8   text_clean_nwords    8537 non-null   int64              \n",
      " 9   text_stop_nwords     8537 non-null   int64              \n",
      " 10  pos_noun             8534 non-null   object             \n",
      " 11  pos_verb             7483 non-null   object             \n",
      " 12  pos_adverb           3524 non-null   object             \n",
      " 13  pos_adj              7655 non-null   object             \n",
      " 14  Date                 8537 non-null   datetime64[ns]     \n",
      " 15  Daily Difference     5943 non-null   float64            \n",
      " 16  Closing Prices Diff  5943 non-null   float64            \n",
      "dtypes: datetime64[ns, UTC](1), datetime64[ns](1), float64(2), int64(6), object(7)\n",
      "memory usage: 1.2+ MB\n"
     ]
    }
   ],
   "source": [
    "#Check the data for null-values in stock performance data\n",
    "df_final.info()"
   ]
  },
  {
   "cell_type": "markdown",
   "metadata": {
    "heading_collapsed": true
   },
   "source": [
    "# Preprocessing Data"
   ]
  },
  {
   "cell_type": "code",
   "execution_count": 26,
   "metadata": {
    "ExecuteTime": {
     "end_time": "2020-07-31T14:45:42.179331Z",
     "start_time": "2020-07-31T14:45:42.130717Z"
    },
    "hidden": true
   },
   "outputs": [
    {
     "name": "stdout",
     "output_type": "stream",
     "text": [
      "<class 'pandas.core.frame.DataFrame'>\n",
      "Int64Index: 8537 entries, 0 to 8536\n",
      "Data columns (total 17 columns):\n",
      " #   Column               Non-Null Count  Dtype              \n",
      "---  ------               --------------  -----              \n",
      " 0   id                   8537 non-null   int64              \n",
      " 1   id_str               8537 non-null   int64              \n",
      " 2   created_at           8537 non-null   datetime64[ns, UTC]\n",
      " 3   text                 8537 non-null   object             \n",
      " 4   text_clean           8537 non-null   object             \n",
      " 5   text_stop            8537 non-null   object             \n",
      " 6   text_len             8537 non-null   int64              \n",
      " 7   text_nwords          8537 non-null   int64              \n",
      " 8   text_clean_nwords    8537 non-null   int64              \n",
      " 9   text_stop_nwords     8537 non-null   int64              \n",
      " 10  pos_noun             8537 non-null   float64            \n",
      " 11  pos_verb             8537 non-null   float64            \n",
      " 12  pos_adverb           8537 non-null   float64            \n",
      " 13  pos_adj              8537 non-null   float64            \n",
      " 14  Date                 8537 non-null   datetime64[ns]     \n",
      " 15  Daily Difference     8537 non-null   float64            \n",
      " 16  Closing Prices Diff  8537 non-null   float64            \n",
      "dtypes: datetime64[ns, UTC](1), datetime64[ns](1), float64(6), int64(6), object(3)\n",
      "memory usage: 1.2+ MB\n"
     ]
    }
   ],
   "source": [
    "#Fill Null values in the dataframe (e.g. stock market performace) with 0\n",
    "df_final.fillna(0,inplace=True)\n",
    "df_final.info()"
   ]
  },
  {
   "cell_type": "code",
   "execution_count": 27,
   "metadata": {
    "ExecuteTime": {
     "end_time": "2020-07-31T14:45:42.191051Z",
     "start_time": "2020-07-31T14:45:42.181667Z"
    },
    "hidden": true
   },
   "outputs": [
    {
     "data": {
      "text/plain": [
       "'Size of the Features: (8537, 8)'"
      ]
     },
     "metadata": {},
     "output_type": "display_data"
    },
    {
     "data": {
      "text/plain": [
       "'Size of the Output: (8537, 2)'"
      ]
     },
     "metadata": {},
     "output_type": "display_data"
    }
   ],
   "source": [
    "#Define X and Y vector features and output\n",
    "X_data = df_final[['text_len', 'text_nwords', 'text_clean_nwords', \n",
    "            'text_stop_nwords', 'pos_noun', 'pos_verb', 'pos_adverb', 'pos_adj']].to_numpy()\n",
    "Y_data = df_final[['Daily Difference', 'Closing Prices Diff']].to_numpy()\n",
    "Y_daily = np.sign(Y_data[:, 0])\n",
    "Y_closing = np.sign(Y_data[:, 1])\n",
    "\n",
    "display(\"Size of the Features: \"+str(np.shape(X_data)))\n",
    "display(\"Size of the Output: \"+str(np.shape(Y_data)))"
   ]
  },
  {
   "cell_type": "code",
   "execution_count": 28,
   "metadata": {
    "ExecuteTime": {
     "end_time": "2020-07-31T14:45:42.203699Z",
     "start_time": "2020-07-31T14:45:42.193124Z"
    },
    "hidden": true
   },
   "outputs": [
    {
     "data": {
      "text/plain": [
       "'Size of the Train Features: (6829, 8)'"
      ]
     },
     "metadata": {},
     "output_type": "display_data"
    },
    {
     "data": {
      "text/plain": [
       "'Size of the Train Output: (6829,)'"
      ]
     },
     "metadata": {},
     "output_type": "display_data"
    }
   ],
   "source": [
    "#Split test and train data\n",
    "X_train, X_test, Y_train, Y_test = train_test_split(X_data, Y_daily, test_size=0.2, random_state=1, stratify=Y_daily)\n",
    "\n",
    "display(\"Size of the Train Features: \"+str(np.shape(X_train)))\n",
    "display(\"Size of the Train Output: \"+str(np.shape(Y_train)))"
   ]
  },
  {
   "cell_type": "code",
   "execution_count": 29,
   "metadata": {
    "ExecuteTime": {
     "end_time": "2020-07-31T14:45:42.213746Z",
     "start_time": "2020-07-31T14:45:42.205286Z"
    },
    "hidden": true
   },
   "outputs": [],
   "source": [
    "#Apply StandardScaler to transform the train and test data\n",
    "sc = StandardScaler()\n",
    "sc.fit(X_train)\n",
    "X_train = sc.transform(X_train)\n",
    "X_test = sc.transform(X_test)"
   ]
  },
  {
   "cell_type": "code",
   "execution_count": 30,
   "metadata": {
    "ExecuteTime": {
     "end_time": "2020-07-31T14:45:42.220951Z",
     "start_time": "2020-07-31T14:45:42.215540Z"
    },
    "code_folding": [
     0
    ],
    "hidden": true
   },
   "outputs": [],
   "source": [
    "def visualize(param, err_train, err_test, x_label, labels):\n",
    "    \"\"\"Function to visualize the error rate of the model on both train and test data\"\"\"\n",
    "    (fig, ax) = plt.subplots(1, 2, figsize = (16,6))\n",
    "    ax[0].plot(param, err_train, '.-')\n",
    "    ax[0].grid()\n",
    "    ax[0].set_title('Training')\n",
    "    ax[0].set_xlabel(x_label)\n",
    "    ax[0].set_ylabel('Training error')\n",
    "    ax[0].legend(labels)\n",
    "    ax[1].plot(param, err_test, '.-')\n",
    "    ax[1].grid()\n",
    "    ax[1].set_title('Testing')\n",
    "    ax[1].set_xlabel(x_label)\n",
    "    ax[1].set_ylabel('Testing error')\n",
    "    ax[1].legend(labels)"
   ]
  },
  {
   "cell_type": "markdown",
   "metadata": {
    "heading_collapsed": true
   },
   "source": [
    "# Model 1: Perceptron"
   ]
  },
  {
   "cell_type": "code",
   "execution_count": 31,
   "metadata": {
    "ExecuteTime": {
     "end_time": "2020-07-31T14:45:43.645176Z",
     "start_time": "2020-07-31T14:45:42.222885Z"
    },
    "hidden": true
   },
   "outputs": [],
   "source": [
    "#Set the range of parameters to run the model on\n",
    "eta = np.linspace(0.001, 1.0, 50)\n",
    "\n",
    "#Variables to store the train and test error for each parameter value\n",
    "err_test = np.zeros((len(eta), 1))\n",
    "err_train = np.zeros((len(eta), 1))\n",
    "\n",
    "for idx, h0 in enumerate(eta):\n",
    "    #Initiate a Perception with respective parameter values\n",
    "    ppn = Perceptron(max_iter = 1000, eta0=h0, random_state=1)\n",
    "    #Fit the model with the train data\n",
    "    ppn.fit(X_train, Y_train)\n",
    "\n",
    "    # Predict train and test data\n",
    "    Y_pred = ppn.predict(X_test)\n",
    "    Y_train_pred = ppn.predict(X_train)\n",
    "    #print(\"Total error: {} out of {}.\".format((Y_pred != Y_test).sum(), len(Y_pred)))\n",
    "\n",
    "    #Compute error rate for train and test data output\n",
    "    err_train[idx] = sum(Y_train!=Y_train_pred)/len(Y_train)\n",
    "    err_test[idx] = sum(Y_test!=Y_pred)/len(Y_test)"
   ]
  },
  {
   "cell_type": "code",
   "execution_count": 32,
   "metadata": {
    "ExecuteTime": {
     "end_time": "2020-07-31T14:45:43.982415Z",
     "start_time": "2020-07-31T14:45:43.646873Z"
    },
    "hidden": true
   },
   "outputs": [
    {
     "data": {
      "image/png": "[encoded data removed]",
      "text/plain": [
       "<Figure size 1152x432 with 2 Axes>"
      ]
     },
     "metadata": {
      "needs_background": "light"
     },
     "output_type": "display_data"
    }
   ],
   "source": [
    "#Visualize the train and test error of the model for various value of parameter: eta\n",
    "visualize(eta, err_train, err_test, 'eta', ['Perceptron'])"
   ]
  },
  {
   "cell_type": "markdown",
   "metadata": {
    "hidden": true
   },
   "source": [
    "We notice that the training and testing error are a bit high initially for eta < 0.1 and later reduce and stabilize at 0.63 and 0.65 for train and test data respectively."
   ]
  },
  {
   "cell_type": "markdown",
   "metadata": {
    "heading_collapsed": true
   },
   "source": [
    "# Model 2: Decision Tree"
   ]
  },
  {
   "cell_type": "code",
   "execution_count": 33,
   "metadata": {
    "ExecuteTime": {
     "end_time": "2020-07-31T14:45:44.238481Z",
     "start_time": "2020-07-31T14:45:43.984122Z"
    },
    "hidden": true
   },
   "outputs": [],
   "source": [
    "#Set the range of parameters to run the model on\n",
    "max_depth = np.linspace(1,10,10)\n",
    "\n",
    "#Variables to store the train and test error for each parameter value\n",
    "err_test = np.zeros((len(max_depth), 1))\n",
    "err_train = np.zeros((len(max_depth), 1))\n",
    "\n",
    "for idx, md in enumerate(max_depth):\n",
    "    #Initiate a DecisionTreeClassifier with respective parameter values\n",
    "    dct = DecisionTreeClassifier(max_depth = md, random_state = 1)\n",
    "    dct.fit(X_train, Y_train)\n",
    "\n",
    "    # Predict train and test data\n",
    "    Y_pred = dct.predict(X_test)\n",
    "    Y_train_pred = dct.predict(X_train)\n",
    "    #print(\"Total error: {} out of {}.\".format((Y_pred != Y_test).sum(), len(Y_pred)))\n",
    "\n",
    "    #Compute error rate for train and test data output\n",
    "    err_train[idx] = sum(Y_train!=Y_train_pred)/len(Y_train)\n",
    "    err_test[idx] = sum(Y_test!=Y_pred)/len(Y_test)"
   ]
  },
  {
   "cell_type": "code",
   "execution_count": 34,
   "metadata": {
    "ExecuteTime": {
     "end_time": "2020-07-31T14:45:44.533457Z",
     "start_time": "2020-07-31T14:45:44.240789Z"
    },
    "hidden": true
   },
   "outputs": [
    {
     "data": {
      "image/png": "[encoded data removed]",
      "text/plain": [
       "<Figure size 1152x432 with 2 Axes>"
      ]
     },
     "metadata": {
      "needs_background": "light"
     },
     "output_type": "display_data"
    }
   ],
   "source": [
    "#Visualize the train and test error of the model for various value of parameter: max_depth\n",
    "visualize(max_depth, err_train, err_test, 'Max Depth', ['Decision Tree'])"
   ]
  },
  {
   "cell_type": "markdown",
   "metadata": {
    "hidden": true
   },
   "source": [
    "We notice that as the max_depth increases, the training error keeps reducing while the testing error stays stable until max_depth = 5 and then starts to increase - which could imply we are overfitting the data after a max_depth = 5."
   ]
  },
  {
   "cell_type": "markdown",
   "metadata": {
    "heading_collapsed": true
   },
   "source": [
    "# Effect of Test size on Both Models"
   ]
  },
  {
   "cell_type": "code",
   "execution_count": 35,
   "metadata": {
    "ExecuteTime": {
     "end_time": "2020-07-31T14:45:45.567087Z",
     "start_time": "2020-07-31T14:45:44.535679Z"
    },
    "code_folding": [],
    "hidden": true
   },
   "outputs": [],
   "source": [
    "#Set the range of parameters to run the model on\n",
    "train_test_ratio = np.arange(0.05, 1.0, 0.05)\n",
    "\n",
    "#Variables to store the train and test error for each parameter value\n",
    "err_train = np.zeros((len(train_test_ratio), 2))\n",
    "err_test = np.zeros((len(train_test_ratio), 2))\n",
    "\n",
    "for idx, rat in enumerate(train_test_ratio):\n",
    "    \n",
    "    #Split test and train data\n",
    "    X_train, X_test, Y_train, Y_test = train_test_split(X_data, Y_daily, test_size=rat, random_state=1, stratify=Y_daily)\n",
    "        \n",
    "    #Apply StandardScaler to transform the train and test data\n",
    "    sc = StandardScaler()\n",
    "    sc.fit(X_train)\n",
    "    X_train = sc.transform(X_train)\n",
    "    X_test = sc.transform(X_test)\n",
    "    \n",
    "    \n",
    "    # Initiate and Run the PERCEPTRON model\n",
    "    ppn = Perceptron(max_iter = 100, eta0=0.25, random_state=1)\n",
    "    ppn.fit(X_train, Y_train)\n",
    "\n",
    "    # Predict train and test data\n",
    "    Y_pred = ppn.predict(X_test)\n",
    "    Y_train_pred = ppn.predict(X_train)\n",
    "    #print(\"Total error: {} out of {}.\".format((Y_pred != Y_test).sum(), len(Y_pred)))\n",
    "\n",
    "    #Compute error rate for train and test data output\n",
    "    err_train[idx, 0] = sum(Y_train!=Y_train_pred)/len(Y_train)\n",
    "    err_test[idx, 0] = sum(Y_test!=Y_pred)/len(Y_test)\n",
    "    \n",
    "    \n",
    "    # Initiate and Run the DECISION TREE model\n",
    "    dct = DecisionTreeClassifier(max_depth = 4, random_state = 1)\n",
    "    dct.fit(X_train, Y_train)\n",
    "\n",
    "    # Predict train and test data\n",
    "    Y_pred = dct.predict(X_test)\n",
    "    Y_train_pred = dct.predict(X_train)\n",
    "    #print(\"Total error: {} out of {}.\".format((Y_pred != Y_test).sum(), len(Y_pred)))\n",
    "\n",
    "    #Compute error rate for train and test data output\n",
    "    err_train[idx, 1] = sum(Y_train!=Y_train_pred)/len(Y_train)\n",
    "    err_test[idx, 1] = sum(Y_test!=Y_pred)/len(Y_test)"
   ]
  },
  {
   "cell_type": "code",
   "execution_count": 36,
   "metadata": {
    "ExecuteTime": {
     "end_time": "2020-07-31T14:45:45.945977Z",
     "start_time": "2020-07-31T14:45:45.568850Z"
    },
    "hidden": true
   },
   "outputs": [
    {
     "data": {
      "image/png": "[encoded data removed]",
      "text/plain": [
       "<Figure size 1152x432 with 2 Axes>"
      ]
     },
     "metadata": {
      "needs_background": "light"
     },
     "output_type": "display_data"
    }
   ],
   "source": [
    "#Visualize the train and test error of the model for various value of parameter: Train-Test Split\n",
    "visualize(train_test_ratio, err_train, err_test, 'Train-Test Split Size', ['Perceptron', 'Decision Tree'])"
   ]
  },
  {
   "cell_type": "markdown",
   "metadata": {
    "hidden": true
   },
   "source": [
    "1. For Decision Tree model:\n",
    "    We notice that as the test size increases, the training error keeps reducing while the testing error keeps dropping until test size = 0.2 and then starts to increase - which could imply we are overfitting the data.\n",
    "    \n",
    "2. For Percepton Model:\n",
    "    The training error fluctuates evenly across the various test_sizes, while the test error reaches a minimum around test size = 0.5 for which the training error also is minimum."
   ]
  }
 ],
 "metadata": {
  "hide_input": false,
  "kernelspec": {
   "display_name": "Python 3",
   "language": "python",
   "name": "python3"
  },
  "language_info": {
   "codemirror_mode": {
    "name": "ipython",
    "version": 3
   },
   "file_extension": ".py",
   "mimetype": "text/x-python",
   "name": "python",
   "nbconvert_exporter": "python",
   "pygments_lexer": "ipython3",
   "version": "3.7.3"
  },
  "toc": {
   "base_numbering": 1,
   "nav_menu": {},
   "number_sections": true,
   "sideBar": true,
   "skip_h1_title": false,
   "title_cell": "Table of Contents",
   "title_sidebar": "Contents",
   "toc_cell": false,
   "toc_position": {
    "height": "calc(100% - 180px)",
    "left": "10px",
    "top": "150px",
    "width": "292px"
   },
   "toc_section_display": true,
   "toc_window_display": true
  },
  "varInspector": {
   "cols": {
    "lenName": 16,
    "lenType": 16,
    "lenVar": 40
   },
   "kernels_config": {
    "python": {
     "delete_cmd_postfix": "",
     "delete_cmd_prefix": "del ",
     "library": "var_list.py",
     "varRefreshCmd": "print(var_dic_list())"
    },
    "r": {
     "delete_cmd_postfix": ") ",
     "delete_cmd_prefix": "rm(",
     "library": "var_list.r",
     "varRefreshCmd": "cat(var_dic_list()) "
    }
   },
   "types_to_exclude": [
    "module",
    "function",
    "builtin_function_or_method",
    "instance",
    "_Feature"
   ],
   "window_display": false
  }
 },
 "nbformat": 4,
 "nbformat_minor": 2
}
